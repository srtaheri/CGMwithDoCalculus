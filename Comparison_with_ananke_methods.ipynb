{
  "nbformat": 4,
  "nbformat_minor": 0,
  "metadata": {
    "colab": {
      "name": "Comparison_with_ananke_methods.ipynb",
      "provenance": [],
      "collapsed_sections": [
        "plAMKkusFqQ-",
        "f4pFLWaoqYB-",
        "5e6qVtStWJ6i"
      ],
      "toc_visible": true
    },
    "kernelspec": {
      "name": "python3",
      "display_name": "Python 3"
    }
  },
  "cells": [
    {
      "cell_type": "code",
      "metadata": {
        "id": "ZbVnKtTjCptu"
      },
      "source": [
        "# install Anaconda3\n",
        "!wget -qO ac.sh https://repo.anaconda.com/archive/Anaconda3-2020.07-Linux-x86_64.sh \n",
        "!bash ./ac.sh -b"
      ],
      "execution_count": null,
      "outputs": []
    },
    {
      "cell_type": "code",
      "metadata": {
        "id": "Ici4vLbWD2yR"
      },
      "source": [
        "# a fake google.colab library\n",
        "!ln -s /usr/local/lib/python3.6/dist-packages/google \\\n",
        "       /root/anaconda3/lib/python3.8/site-packages/google"
      ],
      "execution_count": null,
      "outputs": []
    },
    {
      "cell_type": "code",
      "metadata": {
        "colab": {
          "base_uri": "https://localhost:8080/"
        },
        "id": "Iqh-cJx1D5iV",
        "outputId": "c37476d8-db19-40b9-b0ea-92138bc628a9"
      },
      "source": [
        "# start jupyterlab, which now has Python3 = 3.8\n",
        "!nohup /root/anaconda3/bin/jupyter-lab --ip=0.0.0.0&"
      ],
      "execution_count": null,
      "outputs": [
        {
          "output_type": "stream",
          "text": [
            "nohup: appending output to 'nohup.out'\n"
          ],
          "name": "stdout"
        }
      ]
    },
    {
      "cell_type": "code",
      "metadata": {
        "colab": {
          "base_uri": "https://localhost:8080/"
        },
        "id": "FGuDtOa4D7aV",
        "outputId": "d0d6e194-9d03-4b2e-ce49-ad862d590067"
      },
      "source": [
        "# access through ngrok, click the link\n",
        "!pip install pyngrok -q\n",
        "from pyngrok import ngrok\n",
        "print(ngrok.connect(8888))"
      ],
      "execution_count": null,
      "outputs": [
        {
          "output_type": "stream",
          "text": [
            "  Building wheel for pyngrok (setup.py) ... \u001b[?25l\u001b[?25hdone\n",
            "NgrokTunnel: \"http://6723a3ae4705.ngrok.io\" -> \"http://localhost:8888\"\n"
          ],
          "name": "stdout"
        }
      ]
    },
    {
      "cell_type": "code",
      "metadata": {
        "colab": {
          "base_uri": "https://localhost:8080/"
        },
        "id": "_se7jVgUFYCj",
        "outputId": "b9fde62f-f596-47e8-d7ab-f99633f8c0ac"
      },
      "source": [
        "import platform\n",
        "print(platform.python_version())"
      ],
      "execution_count": 3,
      "outputs": [
        {
          "output_type": "stream",
          "text": [
            "3.6.9\n"
          ],
          "name": "stdout"
        }
      ]
    },
    {
      "cell_type": "code",
      "metadata": {
        "colab": {
          "base_uri": "https://localhost:8080/"
        },
        "id": "qrwef1se_3gK",
        "outputId": "356b8115-83cd-4ef9-e3ab-f83bf06dae27"
      },
      "source": [
        "pip install ananke-causal"
      ],
      "execution_count": 4,
      "outputs": [
        {
          "output_type": "stream",
          "text": [
            "Collecting ananke-causal\n",
            "\u001b[?25l  Downloading https://files.pythonhosted.org/packages/24/77/9eefe3381537903ca9c8bbd1eae07defa887560c04f840b99be3b922e326/ananke_causal-0.1.5-py3-none-any.whl (220kB)\n",
            "\r\u001b[K     |█▌                              | 10kB 15.7MB/s eta 0:00:01\r\u001b[K     |███                             | 20kB 18.0MB/s eta 0:00:01\r\u001b[K     |████▌                           | 30kB 8.6MB/s eta 0:00:01\r\u001b[K     |██████                          | 40kB 8.7MB/s eta 0:00:01\r\u001b[K     |███████▍                        | 51kB 5.0MB/s eta 0:00:01\r\u001b[K     |█████████                       | 61kB 5.3MB/s eta 0:00:01\r\u001b[K     |██████████▍                     | 71kB 6.0MB/s eta 0:00:01\r\u001b[K     |███████████▉                    | 81kB 6.0MB/s eta 0:00:01\r\u001b[K     |█████████████▍                  | 92kB 5.8MB/s eta 0:00:01\r\u001b[K     |██████████████▉                 | 102kB 6.4MB/s eta 0:00:01\r\u001b[K     |████████████████▎               | 112kB 6.4MB/s eta 0:00:01\r\u001b[K     |█████████████████▉              | 122kB 6.4MB/s eta 0:00:01\r\u001b[K     |███████████████████▎            | 133kB 6.4MB/s eta 0:00:01\r\u001b[K     |████████████████████▊           | 143kB 6.4MB/s eta 0:00:01\r\u001b[K     |██████████████████████▎         | 153kB 6.4MB/s eta 0:00:01\r\u001b[K     |███████████████████████▊        | 163kB 6.4MB/s eta 0:00:01\r\u001b[K     |█████████████████████████▏      | 174kB 6.4MB/s eta 0:00:01\r\u001b[K     |██████████████████████████▊     | 184kB 6.4MB/s eta 0:00:01\r\u001b[K     |████████████████████████████▏   | 194kB 6.4MB/s eta 0:00:01\r\u001b[K     |█████████████████████████████▊  | 204kB 6.4MB/s eta 0:00:01\r\u001b[K     |███████████████████████████████▏| 215kB 6.4MB/s eta 0:00:01\r\u001b[K     |████████████████████████████████| 225kB 6.4MB/s \n",
            "\u001b[?25hRequirement already satisfied: numpy in /usr/local/lib/python3.6/dist-packages (from ananke-causal) (1.19.5)\n",
            "Requirement already satisfied: graphviz in /usr/local/lib/python3.6/dist-packages (from ananke-causal) (0.10.1)\n",
            "Requirement already satisfied: scipy in /usr/local/lib/python3.6/dist-packages (from ananke-causal) (1.4.1)\n",
            "Requirement already satisfied: statsmodels in /usr/local/lib/python3.6/dist-packages (from ananke-causal) (0.10.2)\n",
            "Requirement already satisfied: autograd in /usr/local/lib/python3.6/dist-packages (from ananke-causal) (1.3)\n",
            "Requirement already satisfied: pandas in /usr/local/lib/python3.6/dist-packages (from ananke-causal) (1.1.5)\n",
            "Requirement already satisfied: networkx in /usr/local/lib/python3.6/dist-packages (from ananke-causal) (2.5)\n",
            "Requirement already satisfied: patsy>=0.4.0 in /usr/local/lib/python3.6/dist-packages (from statsmodels->ananke-causal) (0.5.1)\n",
            "Requirement already satisfied: future>=0.15.2 in /usr/local/lib/python3.6/dist-packages (from autograd->ananke-causal) (0.16.0)\n",
            "Requirement already satisfied: python-dateutil>=2.7.3 in /usr/local/lib/python3.6/dist-packages (from pandas->ananke-causal) (2.8.1)\n",
            "Requirement already satisfied: pytz>=2017.2 in /usr/local/lib/python3.6/dist-packages (from pandas->ananke-causal) (2018.9)\n",
            "Requirement already satisfied: decorator>=4.3.0 in /usr/local/lib/python3.6/dist-packages (from networkx->ananke-causal) (4.4.2)\n",
            "Requirement already satisfied: six in /usr/local/lib/python3.6/dist-packages (from patsy>=0.4.0->statsmodels->ananke-causal) (1.15.0)\n",
            "Installing collected packages: ananke-causal\n",
            "Successfully installed ananke-causal-0.1.5\n"
          ],
          "name": "stdout"
        }
      ]
    },
    {
      "cell_type": "code",
      "metadata": {
        "id": "0LMcIVTIIJhW",
        "colab": {
          "base_uri": "https://localhost:8080/"
        },
        "outputId": "a7f91f41-aa1d-40a0-8071-76fefec877cb"
      },
      "source": [
        "from ananke.graphs import ADMG\n",
        "from ananke.identification import OneLineID\n",
        "from ananke.estimation import CausalEffect\n",
        "from ananke.datasets import load_afixable_data\n",
        "from ananke.estimation import AutomatedIF\n",
        "import numpy as np\n",
        "import pandas as pd"
      ],
      "execution_count": 5,
      "outputs": [
        {
          "output_type": "stream",
          "text": [
            "/usr/local/lib/python3.6/dist-packages/statsmodels/tools/_testing.py:19: FutureWarning: pandas.util.testing is deprecated. Use the functions in the public API at pandas.testing instead.\n",
            "  import pandas.util.testing as tm\n"
          ],
          "name": "stderr"
        }
      ]
    },
    {
      "cell_type": "markdown",
      "metadata": {
        "id": "IU1UCxrOIPBM"
      },
      "source": [
        "# Case study 3, building the graph"
      ]
    },
    {
      "cell_type": "code",
      "metadata": {
        "colab": {
          "base_uri": "https://localhost:8080/",
          "height": 141
        },
        "id": "D3BoglrbIWSi",
        "outputId": "4b1f986b-99ee-4c46-e90c-22ed26aebd54"
      },
      "source": [
        "vertices_case3 = ['SOS', 'Ras','Raf','AKT','Mek','Erk']\n",
        "di_edges_case3 = [('SOS','Ras'), ('Ras','AKT'),('Ras','Raf'),\n",
        "            ('AKT','Raf'), ('Raf','Mek'),('Mek','Erk')]\n",
        "bi_edges_case3 = [('SOS','AKT')]\n",
        "Case3 = ADMG(vertices_case3, di_edges_case3, bi_edges_case3)\n",
        "Case3.draw(direction='LR')"
      ],
      "execution_count": 6,
      "outputs": [
        {
          "output_type": "execute_result",
          "data": {
            "text/plain": [
              "<graphviz.dot.Digraph at 0x7f6f2ca28080>"
            ],
            "image/svg+xml": "<?xml version=\"1.0\" encoding=\"UTF-8\" standalone=\"no\"?>\n<!DOCTYPE svg PUBLIC \"-//W3C//DTD SVG 1.1//EN\"\n \"http://www.w3.org/Graphics/SVG/1.1/DTD/svg11.dtd\">\n<!-- Generated by graphviz version 2.40.1 (20161225.0304)\n -->\n<!-- Title: %3 Pages: 1 -->\n<svg width=\"435pt\" height=\"90pt\"\n viewBox=\"0.00 0.00 435.00 90.00\" xmlns=\"http://www.w3.org/2000/svg\" xmlns:xlink=\"http://www.w3.org/1999/xlink\">\n<g id=\"graph0\" class=\"graph\" transform=\"scale(1 1) rotate(0) translate(4 86)\">\n<title>%3</title>\n<polygon fill=\"#ffffff\" stroke=\"transparent\" points=\"-4,4 -4,-86 431,-86 431,4 -4,4\"/>\n<!-- SOS -->\n<g id=\"node1\" class=\"node\">\n<title>SOS</title>\n<text text-anchor=\"middle\" x=\"22\" y=\"-37.3\" font-family=\"Times,serif\" font-size=\"14.00\" fill=\"#000000\">SOS</text>\n</g>\n<!-- Ras -->\n<g id=\"node2\" class=\"node\">\n<title>Ras</title>\n<text text-anchor=\"middle\" x=\"99\" y=\"-60.3\" font-family=\"Times,serif\" font-size=\"14.00\" fill=\"#000000\">Ras</text>\n</g>\n<!-- SOS&#45;&gt;Ras -->\n<g id=\"edge3\" class=\"edge\">\n<title>SOS&#45;&gt;Ras</title>\n<path fill=\"none\" stroke=\"#0000ff\" d=\"M44.2716,-47.6526C52.3803,-50.0746 61.6646,-52.8479 70.2552,-55.4139\"/>\n<polygon fill=\"#0000ff\" stroke=\"#0000ff\" points=\"69.3257,-58.789 79.9091,-58.2975 71.3292,-52.0818 69.3257,-58.789\"/>\n</g>\n<!-- AKT -->\n<g id=\"node4\" class=\"node\">\n<title>AKT</title>\n<text text-anchor=\"middle\" x=\"177.5\" y=\"-14.3\" font-family=\"Times,serif\" font-size=\"14.00\" fill=\"#000000\">AKT</text>\n</g>\n<!-- SOS&#45;&gt;AKT -->\n<g id=\"edge7\" class=\"edge\">\n<title>SOS&#45;&gt;AKT</title>\n<path fill=\"none\" stroke=\"#ff0000\" d=\"M54.1733,-36.2412C80.4234,-32.3586 117.387,-26.8913 143.9918,-22.9562\"/>\n<polygon fill=\"#ff0000\" stroke=\"#ff0000\" points=\"53.6596,-32.7791 44.2794,-37.7047 54.6839,-39.7037 53.6596,-32.7791\"/>\n<polygon fill=\"#ff0000\" stroke=\"#ff0000\" points=\"144.6095,-26.403 153.9898,-21.4774 143.5853,-19.4783 144.6095,-26.403\"/>\n</g>\n<!-- Raf -->\n<g id=\"node3\" class=\"node\">\n<title>Raf</title>\n<text text-anchor=\"middle\" x=\"255.5\" y=\"-37.3\" font-family=\"Times,serif\" font-size=\"14.00\" fill=\"#000000\">Raf</text>\n</g>\n<!-- Ras&#45;&gt;Raf -->\n<g id=\"edge4\" class=\"edge\">\n<title>Ras&#45;&gt;Raf</title>\n<path fill=\"none\" stroke=\"#0000ff\" d=\"M118.19,-61.1797C145.3226,-57.1922 195.1046,-49.876 226.6878,-45.2344\"/>\n<polygon fill=\"#0000ff\" stroke=\"#0000ff\" points=\"227.2571,-48.6884 236.6419,-43.7715 226.2392,-41.7628 227.2571,-48.6884\"/>\n</g>\n<!-- Ras&#45;&gt;AKT -->\n<g id=\"edge5\" class=\"edge\">\n<title>Ras&#45;&gt;AKT</title>\n<path fill=\"none\" stroke=\"#0000ff\" d=\"M118.0027,-52.8647C126.1866,-48.069 135.9877,-42.3257 145.2512,-36.8974\"/>\n<polygon fill=\"#0000ff\" stroke=\"#0000ff\" points=\"147.0392,-39.9063 153.8975,-31.8307 143.5002,-33.8668 147.0392,-39.9063\"/>\n</g>\n<!-- Mek -->\n<g id=\"node5\" class=\"node\">\n<title>Mek</title>\n<text text-anchor=\"middle\" x=\"331.5\" y=\"-37.3\" font-family=\"Times,serif\" font-size=\"14.00\" fill=\"#000000\">Mek</text>\n</g>\n<!-- Raf&#45;&gt;Mek -->\n<g id=\"edge2\" class=\"edge\">\n<title>Raf&#45;&gt;Mek</title>\n<path fill=\"none\" stroke=\"#0000ff\" d=\"M274.2865,-41C281.9741,-41 291.0854,-41 299.7508,-41\"/>\n<polygon fill=\"#0000ff\" stroke=\"#0000ff\" points=\"299.9739,-44.5001 309.9739,-41 299.9739,-37.5001 299.9739,-44.5001\"/>\n</g>\n<!-- AKT&#45;&gt;Raf -->\n<g id=\"edge1\" class=\"edge\">\n<title>AKT&#45;&gt;Raf</title>\n<path fill=\"none\" stroke=\"#0000ff\" d=\"M201.3264,-25.0257C209.4166,-27.4113 218.5388,-30.1012 226.9587,-32.584\"/>\n<polygon fill=\"#0000ff\" stroke=\"#0000ff\" points=\"226.1827,-36.0041 236.7643,-35.4754 228.1626,-29.2899 226.1827,-36.0041\"/>\n</g>\n<!-- Erk -->\n<g id=\"node6\" class=\"node\">\n<title>Erk</title>\n<text text-anchor=\"middle\" x=\"408\" y=\"-37.3\" font-family=\"Times,serif\" font-size=\"14.00\" fill=\"#000000\">Erk</text>\n</g>\n<!-- Mek&#45;&gt;Erk -->\n<g id=\"edge6\" class=\"edge\">\n<title>Mek&#45;&gt;Erk</title>\n<path fill=\"none\" stroke=\"#0000ff\" d=\"M353.2172,-41C361.1063,-41 370.1573,-41 378.5997,-41\"/>\n<polygon fill=\"#0000ff\" stroke=\"#0000ff\" points=\"378.8347,-44.5001 388.8346,-41 378.8346,-37.5001 378.8347,-44.5001\"/>\n</g>\n</g>\n</svg>\n"
          },
          "metadata": {
            "tags": []
          },
          "execution_count": 6
        }
      ]
    },
    {
      "cell_type": "code",
      "metadata": {
        "colab": {
          "base_uri": "https://localhost:8080/"
        },
        "id": "UdGcWiprJRXI",
        "outputId": "46e04808-bbcd-42de-f6b4-0307fb92e152"
      },
      "source": [
        "one_id = OneLineID(graph=Case3, treatments=['SOS'], outcomes=['Erk'])\n",
        "one_id.id()"
      ],
      "execution_count": 7,
      "outputs": [
        {
          "output_type": "execute_result",
          "data": {
            "text/plain": [
              "True"
            ]
          },
          "metadata": {
            "tags": []
          },
          "execution_count": 7
        }
      ]
    },
    {
      "cell_type": "code",
      "metadata": {
        "colab": {
          "base_uri": "https://localhost:8080/"
        },
        "id": "Q4thOSG-OD30",
        "outputId": "d0348766-8097-40de-b498-0624afb91496"
      },
      "source": [
        "ate_obj_case3 = CausalEffect(graph=Case3, treatment='SOS', outcome='Erk')  # setting up the CausalEffect object\n",
        "ate_obj_case3"
      ],
      "execution_count": 8,
      "outputs": [
        {
          "output_type": "stream",
          "text": [
            "\n",
            " Treatment is p-fixable and graph is mb-shielded. \n",
            "\n",
            " Available estimators are:\n",
            "\n",
            "1. Primal IPW (p-ipw)\n",
            "2. Dual IPW (d-ipw)\n",
            "3. APIPW (apipw)\n",
            "4. Efficient APIPW (eff-apipw) \n",
            " \n",
            "Suggested estimator is Efficient APIPW \n",
            "\n"
          ],
          "name": "stdout"
        },
        {
          "output_type": "execute_result",
          "data": {
            "text/plain": [
              "<ananke.estimation.counterfactual_mean.CausalEffect at 0x7f6f4577ef28>"
            ]
          },
          "metadata": {
            "tags": []
          },
          "execution_count": 8
        }
      ]
    },
    {
      "cell_type": "markdown",
      "metadata": {
        "id": "VJ4x7csdGNAQ"
      },
      "source": [
        "Read observational data:"
      ]
    },
    {
      "cell_type": "code",
      "metadata": {
        "id": "Ic1lS8TV80bh"
      },
      "source": [
        "obs_data1_case3 = pd.read_csv('obs_data1_case3.csv', sep=',')\n",
        "obs_data1_case3.drop(['Unnamed: 0','EGFR','IGFR', 'PI3K'], axis=1)\n",
        "obs_data2_case3 = pd.read_csv('obs_data2_case3.csv', sep=',')\n",
        "obs_data2_case3.drop(['Unnamed: 0','EGFR','IGFR', 'PI3K'], axis=1)\n",
        "obs_data3_case3 = pd.read_csv('obs_data3_case3.csv', sep=',')\n",
        "obs_data3_case3.drop(['Unnamed: 0','EGFR','IGFR', 'PI3K'], axis=1)\n",
        "obs_data4_case3 = pd.read_csv('obs_data4_case3.csv', sep=',')\n",
        "obs_data4_case3.drop(['Unnamed: 0','EGFR','IGFR', 'PI3K'], axis=1)\n",
        "obs_data5_case3 = pd.read_csv('obs_data5_case3.csv', sep=',')\n",
        "obs_data5_case3.drop(['Unnamed: 0','EGFR','IGFR', 'PI3K'], axis=1)\n",
        "obs_data6_case3 = pd.read_csv('obs_data6_case3.csv', sep=',')\n",
        "obs_data6_case3.drop(['Unnamed: 0','EGFR','IGFR', 'PI3K'], axis=1)\n",
        "obs_data7_case3 = pd.read_csv('obs_data7_case3.csv', sep=',')\n",
        "obs_data7_case3.drop(['Unnamed: 0','EGFR','IGFR', 'PI3K'], axis=1)\n",
        "obs_data8_case3 = pd.read_csv('obs_data8_case3.csv', sep=',')\n",
        "obs_data8_case3.drop(['Unnamed: 0','EGFR','IGFR', 'PI3K'], axis=1)\n",
        "obs_data9_case3 = pd.read_csv('obs_data9_case3.csv', sep=',')\n",
        "obs_data9_case3.drop(['Unnamed: 0','EGFR','IGFR', 'PI3K'], axis=1)\n",
        "obs_data10_case3 = pd.read_csv('obs_data10_case3.csv', sep=',')\n",
        "obs_data10_case3.drop(['Unnamed: 0','EGFR','IGFR', 'PI3K'], axis=1)"
      ],
      "execution_count": null,
      "outputs": []
    },
    {
      "cell_type": "code",
      "metadata": {
        "id": "od-lKb1TPI7A"
      },
      "source": [
        "obs_data_list_case3 = []\n",
        "obs_data_list_case3.append(obs_data1_case3)\n",
        "obs_data_list_case3.append(obs_data2_case3)\n",
        "obs_data_list_case3.append(obs_data3_case3)\n",
        "obs_data_list_case3.append(obs_data4_case3)\n",
        "obs_data_list_case3.append(obs_data5_case3)\n",
        "obs_data_list_case3.append(obs_data6_case3)\n",
        "obs_data_list_case3.append(obs_data7_case3)\n",
        "obs_data_list_case3.append(obs_data8_case3)\n",
        "obs_data_list_case3.append(obs_data9_case3)\n",
        "obs_data_list_case3.append(obs_data10_case3)"
      ],
      "execution_count": 11,
      "outputs": []
    },
    {
      "cell_type": "markdown",
      "metadata": {
        "id": "N1cdKpRrGRId"
      },
      "source": [
        "Read interventional data:"
      ]
    },
    {
      "cell_type": "code",
      "metadata": {
        "id": "PBfrpAFYGT7C"
      },
      "source": [
        "intv_data1_case3 = pd.read_csv('intv_data1_case3.csv', sep=',')\n",
        "intv_data1_case3.drop(['Unnamed: 0','EGFR','IGFR', 'PI3K'], axis=1)\n",
        "intv_data2_case3 = pd.read_csv('intv_data2_case3.csv', sep=',')\n",
        "intv_data2_case3.drop(['Unnamed: 0','EGFR','IGFR', 'PI3K'], axis=1)\n",
        "intv_data3_case3 = pd.read_csv('intv_data3_case3.csv', sep=',')\n",
        "intv_data3_case3.drop(['Unnamed: 0','EGFR','IGFR', 'PI3K'], axis=1)\n",
        "intv_data4_case3 = pd.read_csv('intv_data4_case3.csv', sep=',')\n",
        "intv_data4_case3.drop(['Unnamed: 0','EGFR','IGFR', 'PI3K'], axis=1)\n",
        "intv_data5_case3 = pd.read_csv('intv_data5_case3.csv', sep=',')\n",
        "intv_data5_case3.drop(['Unnamed: 0','EGFR','IGFR', 'PI3K'], axis=1)\n",
        "intv_data6_case3 = pd.read_csv('intv_data6_case3.csv', sep=',')\n",
        "intv_data6_case3.drop(['Unnamed: 0','EGFR','IGFR', 'PI3K'], axis=1)\n",
        "intv_data7_case3 = pd.read_csv('intv_data7_case3.csv', sep=',')\n",
        "intv_data7_case3.drop(['Unnamed: 0','EGFR','IGFR', 'PI3K'], axis=1)\n",
        "intv_data8_case3 = pd.read_csv('intv_data8_case3.csv', sep=',')\n",
        "intv_data8_case3.drop(['Unnamed: 0','EGFR','IGFR', 'PI3K'], axis=1)\n",
        "intv_data9_case3 = pd.read_csv('intv_data9_case3.csv', sep=',')\n",
        "intv_data9_case3.drop(['Unnamed: 0','EGFR','IGFR', 'PI3K'], axis=1)\n",
        "intv_data10_case3 = pd.read_csv('intv_data10_case3.csv', sep=',')\n",
        "intv_data10_case3.drop(['Unnamed: 0','EGFR','IGFR', 'PI3K'], axis=1)"
      ],
      "execution_count": null,
      "outputs": []
    },
    {
      "cell_type": "code",
      "metadata": {
        "id": "siP_RiPVNqdy"
      },
      "source": [
        "intv_data_list_case3 = []\n",
        "intv_data_list_case3.append(intv_data1_case3)\n",
        "intv_data_list_case3.append(intv_data2_case3)\n",
        "intv_data_list_case3.append(intv_data3_case3)\n",
        "intv_data_list_case3.append(intv_data4_case3)\n",
        "intv_data_list_case3.append(intv_data5_case3)\n",
        "intv_data_list_case3.append(intv_data6_case3)\n",
        "intv_data_list_case3.append(intv_data7_case3)\n",
        "intv_data_list_case3.append(intv_data8_case3)\n",
        "intv_data_list_case3.append(intv_data9_case3)\n",
        "intv_data_list_case3.append(intv_data10_case3)"
      ],
      "execution_count": 13,
      "outputs": []
    },
    {
      "cell_type": "markdown",
      "metadata": {
        "id": "plAMKkusFqQ-"
      },
      "source": [
        "# absolute average error (AAE)"
      ]
    },
    {
      "cell_type": "code",
      "metadata": {
        "id": "vWN61vSn9Ei6"
      },
      "source": [
        "means_p_ipw_case3 = [0]*10\n",
        "means_d_ipw_case3 = [0]*10\n",
        "means_list_p_ipw_case3 = {}\n",
        "means_list_d_ipw_case3 = {}\n",
        "for num_data_points in [30,60,100,140,200]:\n",
        "  for i in range(0,10):\n",
        "  #True causal effect is:\n",
        "    True_case3 = abs(intv_data_list_case3[i]['Erk'].mean() - obs_data_list_case3[i]['Erk'].mean())\n",
        "    data = obs_data_list_case3[i].iloc[0:num_data_points,]\n",
        "    ace_p_ipw_case3 = ate_obj_case3.compute_effect(data, \"p-ipw\")\n",
        "    ace_d_ipw_case3 = ate_obj_case3.compute_effect(data, \"d-ipw\")\n",
        "    means_p_ipw_case3[i] = abs(True_case3 - ace_p_ipw_case3)\n",
        "    means_d_ipw_case3[i] = abs(True_case3 - ace_d_ipw_case3)\n",
        "  means_list_p_ipw_case3[num_data_points] = (means_p_ipw_case3)\n",
        "  means_p_ipw_case3 = [0]*10\n",
        "  means_list_d_ipw_case3[num_data_points] = (means_d_ipw_case3)\n",
        "  means_d_ipw_case3 = [0]*10"
      ],
      "execution_count": null,
      "outputs": []
    },
    {
      "cell_type": "code",
      "metadata": {
        "id": "92yzSXYaUhi1"
      },
      "source": [
        "df_p_ipw_case3 = pd.DataFrame(data = means_list_p_ipw_case3 )\n",
        "df_d_ipw_case3 = pd.DataFrame(data = means_list_d_ipw_case3 )"
      ],
      "execution_count": 15,
      "outputs": []
    },
    {
      "cell_type": "code",
      "metadata": {
        "id": "9ZxbmpYxf2VE"
      },
      "source": [
        "df_p_ipw_case3.to_csv('df_p_ipw_case3.csv')\n",
        "df_d_ipw_case3.to_csv('df_d_ipw_case3.csv')"
      ],
      "execution_count": 16,
      "outputs": []
    },
    {
      "cell_type": "markdown",
      "metadata": {
        "id": "f4pFLWaoqYB-"
      },
      "source": [
        "# Case Study 4 : Building the graph"
      ]
    },
    {
      "cell_type": "code",
      "metadata": {
        "colab": {
          "base_uri": "https://localhost:8080/",
          "height": 332
        },
        "id": "4YaS-zaQqdVr",
        "outputId": "b60f729d-17ab-4ee4-e0a3-59f404017f88"
      },
      "source": [
        "vertices_case4 = ['SARS_COV2', 'ACE2','Ang','AGTR1','ADAM17','Toci','Sil6r','EGF','TNF','EGFR','PRR','NFKB','IL6STAT3','IL6AMP','cytok','Gefi']\n",
        "di_edges_case4 = [('SARS_COV2','ACE2'),('ACE2','Ang'),('Ang','AGTR1'),('AGTR1','ADAM17'),('ADAM17','EGF'),('ADAM17','TNF'),('ADAM17','Sil6r'),('SARS_COV2','PRR'),\n",
        "                  ('PRR','NFKB'),('EGFR','NFKB'),('TNF','NFKB'),('Sil6r','IL6STAT3'),('Toci','Sil6r'),('NFKB','IL6AMP'),('IL6AMP','cytok'),('IL6STAT3','IL6AMP'),('EGF','EGFR'), ('Gefi', 'EGFR')]\n",
        "bi_edges_case4 = [('SARS_COV2','Ang'), ('ADAM17','Sil6r'),('PRR','NFKB'),\n",
        "            ('EGF','EGFR'), ('EGFR','TNF'),('EGFR','IL6STAT3')]\n",
        "Case4 = ADMG(vertices_case4, di_edges_case4, bi_edges_case4)\n",
        "Case4.draw(direction='LR')"
      ],
      "execution_count": 24,
      "outputs": [
        {
          "output_type": "execute_result",
          "data": {
            "text/plain": [
              "<graphviz.dot.Digraph at 0x7f6f2c531c88>"
            ],
            "image/svg+xml": "<?xml version=\"1.0\" encoding=\"UTF-8\" standalone=\"no\"?>\n<!DOCTYPE svg PUBLIC \"-//W3C//DTD SVG 1.1//EN\"\n \"http://www.w3.org/Graphics/SVG/1.1/DTD/svg11.dtd\">\n<!-- Generated by graphviz version 2.40.1 (20161225.0304)\n -->\n<!-- Title: %3 Pages: 1 -->\n<svg width=\"1054pt\" height=\"218pt\"\n viewBox=\"0.00 0.00 1054.00 218.00\" xmlns=\"http://www.w3.org/2000/svg\" xmlns:xlink=\"http://www.w3.org/1999/xlink\">\n<g id=\"graph0\" class=\"graph\" transform=\"scale(1 1) rotate(0) translate(4 214)\">\n<title>%3</title>\n<polygon fill=\"#ffffff\" stroke=\"transparent\" points=\"-4,4 -4,-214 1050,-214 1050,4 -4,4\"/>\n<!-- SARS_COV2 -->\n<g id=\"node1\" class=\"node\">\n<title>SARS_COV2</title>\n<text text-anchor=\"middle\" x=\"49.5\" y=\"-61.3\" font-family=\"Times,serif\" font-size=\"14.00\" fill=\"#000000\">SARS_COV2</text>\n</g>\n<!-- ACE2 -->\n<g id=\"node2\" class=\"node\">\n<title>ACE2</title>\n<text text-anchor=\"middle\" x=\"161.5\" y=\"-107.3\" font-family=\"Times,serif\" font-size=\"14.00\" fill=\"#000000\">ACE2</text>\n</g>\n<!-- SARS_COV2&#45;&gt;ACE2 -->\n<g id=\"edge13\" class=\"edge\">\n<title>SARS_COV2&#45;&gt;ACE2</title>\n<path fill=\"none\" stroke=\"#0000ff\" d=\"M93.4439,-83.0484C104.0326,-87.3973 115.2251,-91.9942 125.4079,-96.1765\"/>\n<polygon fill=\"#0000ff\" stroke=\"#0000ff\" points=\"124.2289,-99.4759 134.8088,-100.0376 126.8884,-93.0007 124.2289,-99.4759\"/>\n</g>\n<!-- Ang -->\n<g id=\"node3\" class=\"node\">\n<title>Ang</title>\n<text text-anchor=\"middle\" x=\"245\" y=\"-107.3\" font-family=\"Times,serif\" font-size=\"14.00\" fill=\"#000000\">Ang</text>\n</g>\n<!-- SARS_COV2&#45;&gt;Ang -->\n<g id=\"edge24\" class=\"edge\">\n<title>SARS_COV2&#45;&gt;Ang</title>\n<path fill=\"none\" stroke=\"#ff0000\" d=\"M109.2859,-69.1676C134.0139,-71.9248 162.7509,-76.4831 188,-84 196.9976,-86.6787 206.3616,-90.5914 214.8374,-94.6112\"/>\n<polygon fill=\"#ff0000\" stroke=\"#ff0000\" points=\"109.6221,-65.6837 99.3129,-68.1274 108.8959,-72.646 109.6221,-65.6837\"/>\n<polygon fill=\"#ff0000\" stroke=\"#ff0000\" points=\"213.4486,-97.8292 223.9627,-99.1352 216.5579,-91.5576 213.4486,-97.8292\"/>\n</g>\n<!-- PRR -->\n<g id=\"node11\" class=\"node\">\n<title>PRR</title>\n<text text-anchor=\"middle\" x=\"724\" y=\"-15.3\" font-family=\"Times,serif\" font-size=\"14.00\" fill=\"#000000\">PRR</text>\n</g>\n<!-- SARS_COV2&#45;&gt;PRR -->\n<g id=\"edge7\" class=\"edge\">\n<title>SARS_COV2&#45;&gt;PRR</title>\n<path fill=\"none\" stroke=\"#0000ff\" d=\"M82.2991,-46.8939C120.272,-27.6609 185.2678,0 245,0 245,0 245,0 536,0 590.7891,0 654.1066,-8.0868 691.5053,-13.7088\"/>\n<polygon fill=\"#0000ff\" stroke=\"#0000ff\" points=\"691.3736,-17.2297 701.7896,-15.2915 692.4384,-10.3111 691.3736,-17.2297\"/>\n</g>\n<!-- ACE2&#45;&gt;Ang -->\n<g id=\"edge16\" class=\"edge\">\n<title>ACE2&#45;&gt;Ang</title>\n<path fill=\"none\" stroke=\"#0000ff\" d=\"M188.3795,-111C196.4918,-111 205.4656,-111 213.8324,-111\"/>\n<polygon fill=\"#0000ff\" stroke=\"#0000ff\" points=\"213.9952,-114.5001 223.9951,-111 213.9951,-107.5001 213.9952,-114.5001\"/>\n</g>\n<!-- AGTR1 -->\n<g id=\"node4\" class=\"node\">\n<title>AGTR1</title>\n<text text-anchor=\"middle\" x=\"334\" y=\"-120.3\" font-family=\"Times,serif\" font-size=\"14.00\" fill=\"#000000\">AGTR1</text>\n</g>\n<!-- Ang&#45;&gt;AGTR1 -->\n<g id=\"edge15\" class=\"edge\">\n<title>Ang&#45;&gt;AGTR1</title>\n<path fill=\"none\" stroke=\"#0000ff\" d=\"M266.0918,-114.0808C273.8601,-115.2155 282.9589,-116.5446 291.9259,-117.8544\"/>\n<polygon fill=\"#0000ff\" stroke=\"#0000ff\" points=\"291.5152,-121.3314 301.9161,-119.3136 292.527,-114.4049 291.5152,-121.3314\"/>\n</g>\n<!-- ADAM17 -->\n<g id=\"node5\" class=\"node\">\n<title>ADAM17</title>\n<text text-anchor=\"middle\" x=\"440\" y=\"-134.3\" font-family=\"Times,serif\" font-size=\"14.00\" fill=\"#000000\">ADAM17</text>\n</g>\n<!-- AGTR1&#45;&gt;ADAM17 -->\n<g id=\"edge1\" class=\"edge\">\n<title>AGTR1&#45;&gt;ADAM17</title>\n<path fill=\"none\" stroke=\"#0000ff\" d=\"M366.0912,-128.2385C374.1498,-129.3028 382.9764,-130.4686 391.6367,-131.6124\"/>\n<polygon fill=\"#0000ff\" stroke=\"#0000ff\" points=\"391.2985,-135.098 401.6707,-132.9376 392.2151,-128.1583 391.2985,-135.098\"/>\n</g>\n<!-- Sil6r -->\n<g id=\"node7\" class=\"node\">\n<title>Sil6r</title>\n<text text-anchor=\"middle\" x=\"536\" y=\"-188.3\" font-family=\"Times,serif\" font-size=\"14.00\" fill=\"#000000\">Sil6r</text>\n</g>\n<!-- ADAM17&#45;&gt;Sil6r -->\n<g id=\"edge6\" class=\"edge\">\n<title>ADAM17&#45;&gt;Sil6r</title>\n<path fill=\"none\" stroke=\"#0000ff\" d=\"M478.2176,-152.8736C487.2985,-157.7443 496.8672,-163.224 505.548,-168.5388\"/>\n<polygon fill=\"#0000ff\" stroke=\"#0000ff\" points=\"503.8859,-171.628 514.2152,-173.9851 507.6103,-165.701 503.8859,-171.628\"/>\n</g>\n<!-- ADAM17&#45;&gt;Sil6r -->\n<g id=\"edge20\" class=\"edge\">\n<title>ADAM17&#45;&gt;Sil6r</title>\n<path fill=\"none\" stroke=\"#ff0000\" d=\"M470.6482,-161.5812C481.5439,-168.2449 493.818,-175.1586 504.7625,-180.7989\"/>\n<polygon fill=\"#ff0000\" stroke=\"#ff0000\" points=\"472.1138,-158.3687 461.7839,-156.0143 468.3909,-164.2967 472.1138,-158.3687\"/>\n<polygon fill=\"#ff0000\" stroke=\"#ff0000\" points=\"503.4589,-184.0598 513.97,-185.3895 506.5823,-177.7953 503.4589,-184.0598\"/>\n</g>\n<!-- EGF -->\n<g id=\"node8\" class=\"node\">\n<title>EGF</title>\n<text text-anchor=\"middle\" x=\"536\" y=\"-134.3\" font-family=\"Times,serif\" font-size=\"14.00\" fill=\"#000000\">EGF</text>\n</g>\n<!-- ADAM17&#45;&gt;EGF -->\n<g id=\"edge12\" class=\"edge\">\n<title>ADAM17&#45;&gt;EGF</title>\n<path fill=\"none\" stroke=\"#0000ff\" d=\"M478.2176,-138C486.6522,-138 495.5078,-138 503.6817,-138\"/>\n<polygon fill=\"#0000ff\" stroke=\"#0000ff\" points=\"503.9418,-141.5001 513.9418,-138 503.9417,-134.5001 503.9418,-141.5001\"/>\n</g>\n<!-- TNF -->\n<g id=\"node9\" class=\"node\">\n<title>TNF</title>\n<text text-anchor=\"middle\" x=\"724\" y=\"-69.3\" font-family=\"Times,serif\" font-size=\"14.00\" fill=\"#000000\">TNF</text>\n</g>\n<!-- ADAM17&#45;&gt;TNF -->\n<g id=\"edge5\" class=\"edge\">\n<title>ADAM17&#45;&gt;TNF</title>\n<path fill=\"none\" stroke=\"#0000ff\" d=\"M450.28,-119.7351C462.5427,-100.0272 485.0685,-69.756 514,-57 572.8493,-31.0531 649.9708,-48.3164 692.4713,-61.6599\"/>\n<polygon fill=\"#0000ff\" stroke=\"#0000ff\" points=\"691.4057,-64.9938 701.9982,-64.7693 693.5777,-58.3392 691.4057,-64.9938\"/>\n</g>\n<!-- Toci -->\n<g id=\"node6\" class=\"node\">\n<title>Toci</title>\n<text text-anchor=\"middle\" x=\"440\" y=\"-188.3\" font-family=\"Times,serif\" font-size=\"14.00\" fill=\"#000000\">Toci</text>\n</g>\n<!-- Toci&#45;&gt;Sil6r -->\n<g id=\"edge9\" class=\"edge\">\n<title>Toci&#45;&gt;Sil6r</title>\n<path fill=\"none\" stroke=\"#0000ff\" d=\"M461.3055,-192C473.7188,-192 489.6244,-192 503.5656,-192\"/>\n<polygon fill=\"#0000ff\" stroke=\"#0000ff\" points=\"503.7533,-195.5001 513.7533,-192 503.7532,-188.5001 503.7533,-195.5001\"/>\n</g>\n<!-- IL6STAT3 -->\n<g id=\"node13\" class=\"node\">\n<title>IL6STAT3</title>\n<text text-anchor=\"middle\" x=\"724\" y=\"-161.3\" font-family=\"Times,serif\" font-size=\"14.00\" fill=\"#000000\">IL6STAT3</text>\n</g>\n<!-- Sil6r&#45;&gt;IL6STAT3 -->\n<g id=\"edge18\" class=\"edge\">\n<title>Sil6r&#45;&gt;IL6STAT3</title>\n<path fill=\"none\" stroke=\"#0000ff\" d=\"M558.3043,-188.7967C586.5763,-184.7364 636.1516,-177.6165 673.7296,-172.2197\"/>\n<polygon fill=\"#0000ff\" stroke=\"#0000ff\" points=\"674.5818,-175.6333 683.9826,-170.7472 673.5866,-168.7044 674.5818,-175.6333\"/>\n</g>\n<!-- EGFR -->\n<g id=\"node10\" class=\"node\">\n<title>EGFR</title>\n<text text-anchor=\"middle\" x=\"621\" y=\"-124.3\" font-family=\"Times,serif\" font-size=\"14.00\" fill=\"#000000\">EGFR</text>\n</g>\n<!-- EGF&#45;&gt;EGFR -->\n<g id=\"edge3\" class=\"edge\">\n<title>EGF&#45;&gt;EGFR</title>\n<path fill=\"none\" stroke=\"#0000ff\" d=\"M558.3327,-129.3494C566.1812,-127.8149 575.2243,-126.5253 583.955,-125.6579\"/>\n<polygon fill=\"#0000ff\" stroke=\"#0000ff\" points=\"584.2867,-129.1426 593.9704,-124.8442 583.7198,-122.1656 584.2867,-129.1426\"/>\n</g>\n<!-- EGF&#45;&gt;EGFR -->\n<g id=\"edge19\" class=\"edge\">\n<title>EGF&#45;&gt;EGFR</title>\n<path fill=\"none\" stroke=\"#ff0000\" d=\"M568.5633,-140.7523C573.5458,-140.3361 578.7215,-139.7672 583.7948,-139.0803\"/>\n<polygon fill=\"#ff0000\" stroke=\"#ff0000\" points=\"568.0932,-137.2749 558.3327,-141.3959 568.5328,-144.261 568.0932,-137.2749\"/>\n<polygon fill=\"#ff0000\" stroke=\"#ff0000\" points=\"584.6185,-142.4949 593.9704,-137.5157 583.5546,-135.5762 584.6185,-142.4949\"/>\n</g>\n<!-- NFKB -->\n<g id=\"node12\" class=\"node\">\n<title>NFKB</title>\n<text text-anchor=\"middle\" x=\"828\" y=\"-69.3\" font-family=\"Times,serif\" font-size=\"14.00\" fill=\"#000000\">NFKB</text>\n</g>\n<!-- TNF&#45;&gt;NFKB -->\n<g id=\"edge2\" class=\"edge\">\n<title>TNF&#45;&gt;NFKB</title>\n<path fill=\"none\" stroke=\"#0000ff\" d=\"M746.0557,-73C758.6265,-73 774.7389,-73 789.3448,-73\"/>\n<polygon fill=\"#0000ff\" stroke=\"#0000ff\" points=\"789.6417,-76.5001 799.6417,-73 789.6416,-69.5001 789.6417,-76.5001\"/>\n</g>\n<!-- EGFR&#45;&gt;TNF -->\n<g id=\"edge21\" class=\"edge\">\n<title>EGFR&#45;&gt;TNF</title>\n<path fill=\"none\" stroke=\"#ff0000\" d=\"M657.0783,-108.7349C668.7656,-102.4941 681.6203,-95.6299 692.9128,-89.6\"/>\n<polygon fill=\"#ff0000\" stroke=\"#ff0000\" points=\"655.2346,-105.7516 648.062,-113.5494 658.5318,-111.9264 655.2346,-105.7516\"/>\n<polygon fill=\"#ff0000\" stroke=\"#ff0000\" points=\"694.7985,-92.5608 701.9711,-84.763 691.5013,-86.386 694.7985,-92.5608\"/>\n</g>\n<!-- EGFR&#45;&gt;NFKB -->\n<g id=\"edge8\" class=\"edge\">\n<title>EGFR&#45;&gt;NFKB</title>\n<path fill=\"none\" stroke=\"#0000ff\" d=\"M648.0231,-124.405C677.082,-120.1485 724.4403,-112.0766 764,-100 772.7153,-97.3394 781.8616,-93.8972 790.4251,-90.3664\"/>\n<polygon fill=\"#0000ff\" stroke=\"#0000ff\" points=\"791.9615,-93.5164 799.7919,-86.3795 789.22,-87.0756 791.9615,-93.5164\"/>\n</g>\n<!-- EGFR&#45;&gt;IL6STAT3 -->\n<g id=\"edge23\" class=\"edge\">\n<title>EGFR&#45;&gt;IL6STAT3</title>\n<path fill=\"none\" stroke=\"#ff0000\" d=\"M657.71,-141.1871C663.1563,-143.1435 668.8438,-145.1866 674.4991,-147.2181\"/>\n<polygon fill=\"#ff0000\" stroke=\"#ff0000\" points=\"658.6565,-137.8082 648.062,-137.7213 656.29,-144.396 658.6565,-137.8082\"/>\n<polygon fill=\"#ff0000\" stroke=\"#ff0000\" points=\"673.3434,-150.5219 683.9379,-150.6088 675.71,-143.9341 673.3434,-150.5219\"/>\n</g>\n<!-- PRR&#45;&gt;NFKB -->\n<g id=\"edge14\" class=\"edge\">\n<title>PRR&#45;&gt;NFKB</title>\n<path fill=\"none\" stroke=\"#0000ff\" d=\"M746.0557,-24.816C760.3109,-31.0173 779.1204,-40.5535 795.1228,-49.6024\"/>\n<polygon fill=\"#0000ff\" stroke=\"#0000ff\" points=\"793.7581,-52.8568 804.1648,-54.845 797.2693,-46.8011 793.7581,-52.8568\"/>\n</g>\n<!-- PRR&#45;&gt;NFKB -->\n<g id=\"edge22\" class=\"edge\">\n<title>PRR&#45;&gt;NFKB</title>\n<path fill=\"none\" stroke=\"#ff0000\" d=\"M754.9505,-41.3027C766.132,-47.689 778.8757,-54.3983 790.5543,-60.0663\"/>\n<polygon fill=\"#ff0000\" stroke=\"#ff0000\" points=\"756.4527,-38.1263 746.0557,-36.088 752.9123,-44.165 756.4527,-38.1263\"/>\n<polygon fill=\"#ff0000\" stroke=\"#ff0000\" points=\"789.1051,-63.2526 799.6417,-64.3627 792.0971,-56.9242 789.1051,-63.2526\"/>\n</g>\n<!-- IL6AMP -->\n<g id=\"node14\" class=\"node\">\n<title>IL6AMP</title>\n<text text-anchor=\"middle\" x=\"926.5\" y=\"-92.3\" font-family=\"Times,serif\" font-size=\"14.00\" fill=\"#000000\">IL6AMP</text>\n</g>\n<!-- NFKB&#45;&gt;IL6AMP -->\n<g id=\"edge10\" class=\"edge\">\n<title>NFKB&#45;&gt;IL6AMP</title>\n<path fill=\"none\" stroke=\"#0000ff\" d=\"M856.2261,-79.5909C864.3218,-81.4812 873.3504,-83.5894 882.1668,-85.6481\"/>\n<polygon fill=\"#0000ff\" stroke=\"#0000ff\" points=\"881.4356,-89.0714 891.9695,-87.937 883.0273,-82.2548 881.4356,-89.0714\"/>\n</g>\n<!-- IL6STAT3&#45;&gt;IL6AMP -->\n<g id=\"edge4\" class=\"edge\">\n<title>IL6STAT3&#45;&gt;IL6AMP</title>\n<path fill=\"none\" stroke=\"#0000ff\" d=\"M764.0075,-151.3678C798.1434,-139.7363 847.1558,-123.0358 882.4134,-111.0221\"/>\n<polygon fill=\"#0000ff\" stroke=\"#0000ff\" points=\"883.6326,-114.3043 891.9694,-107.766 881.3749,-107.6784 883.6326,-114.3043\"/>\n</g>\n<!-- cytok -->\n<g id=\"node15\" class=\"node\">\n<title>cytok</title>\n<text text-anchor=\"middle\" x=\"1021.5\" y=\"-92.3\" font-family=\"Times,serif\" font-size=\"14.00\" fill=\"#000000\">cytok</text>\n</g>\n<!-- IL6AMP&#45;&gt;cytok -->\n<g id=\"edge11\" class=\"edge\">\n<title>IL6AMP&#45;&gt;cytok</title>\n<path fill=\"none\" stroke=\"#0000ff\" d=\"M961.0659,-96C969.4217,-96 978.3555,-96 986.721,-96\"/>\n<polygon fill=\"#0000ff\" stroke=\"#0000ff\" points=\"986.9271,-99.5001 996.927,-96 986.927,-92.5001 986.9271,-99.5001\"/>\n</g>\n<!-- Gefi -->\n<g id=\"node16\" class=\"node\">\n<title>Gefi</title>\n<text text-anchor=\"middle\" x=\"536\" y=\"-80.3\" font-family=\"Times,serif\" font-size=\"14.00\" fill=\"#000000\">Gefi</text>\n</g>\n<!-- Gefi&#45;&gt;EGFR -->\n<g id=\"edge17\" class=\"edge\">\n<title>Gefi&#45;&gt;EGFR</title>\n<path fill=\"none\" stroke=\"#0000ff\" d=\"M556.5761,-94.6512C565.0654,-99.0456 575.1617,-104.2719 584.8136,-109.2682\"/>\n<polygon fill=\"#0000ff\" stroke=\"#0000ff\" points=\"583.3747,-112.4645 593.8645,-113.9534 586.5927,-106.248 583.3747,-112.4645\"/>\n</g>\n</g>\n</svg>\n"
          },
          "metadata": {
            "tags": []
          },
          "execution_count": 24
        }
      ]
    },
    {
      "cell_type": "code",
      "metadata": {
        "colab": {
          "base_uri": "https://localhost:8080/"
        },
        "id": "tjcCmZV6zJxB",
        "outputId": "0f65183e-73d2-437f-dd8e-d690e4a4d78c"
      },
      "source": [
        "one_id = OneLineID(graph=Case4, treatments=['Sil6r'], outcomes=['cytok'])\n",
        "one_id.id()"
      ],
      "execution_count": 25,
      "outputs": [
        {
          "output_type": "execute_result",
          "data": {
            "text/plain": [
              "True"
            ]
          },
          "metadata": {
            "tags": []
          },
          "execution_count": 25
        }
      ]
    },
    {
      "cell_type": "code",
      "metadata": {
        "colab": {
          "base_uri": "https://localhost:8080/"
        },
        "id": "Uu90pEFSTzvD",
        "outputId": "63375310-77e6-4332-f09e-f2d4feaf7aab"
      },
      "source": [
        "one_id = OneLineID(graph=Case4, treatments=['EGFR'], outcomes=['cytok'])\n",
        "one_id.id()"
      ],
      "execution_count": 26,
      "outputs": [
        {
          "output_type": "execute_result",
          "data": {
            "text/plain": [
              "True"
            ]
          },
          "metadata": {
            "tags": []
          },
          "execution_count": 26
        }
      ]
    },
    {
      "cell_type": "code",
      "metadata": {
        "id": "XKSqnlVtzeYQ"
      },
      "source": [
        "ate_obj_case4_sil6r = CausalEffect(graph=Case4, treatment='Sil6r', outcome='cytok')  # setting up the CausalEffect object\n",
        "ate_obj_case4_sil6r"
      ],
      "execution_count": null,
      "outputs": []
    },
    {
      "cell_type": "code",
      "metadata": {
        "id": "Kk3Y-zoCT6SH"
      },
      "source": [
        "ate_obj_case4_egfr = CausalEffect(graph=Case4, treatment='EGFR', outcome='cytok')  # setting up the CausalEffect object\n",
        "ate_obj_case4_egfr"
      ],
      "execution_count": null,
      "outputs": []
    },
    {
      "cell_type": "code",
      "metadata": {
        "id": "M5DySkOhUqWH"
      },
      "source": [
        "obs_data1_case4 = pd.read_csv('obs_data1_Case4.csv', sep=',')\n",
        "obs_data2_case4 = pd.read_csv('obs_data2_Case4.csv', sep=',')\n",
        "obs_data3_case4 = pd.read_csv('obs_data3_Case4.csv', sep=',')\n",
        "obs_data4_case4 = pd.read_csv('obs_data4_Case4.csv', sep=',')\n",
        "obs_data5_case4 = pd.read_csv('obs_data5_Case4.csv', sep=',')\n",
        "obs_data6_case4 = pd.read_csv('obs_data6_Case4.csv', sep=',')\n",
        "obs_data7_case4 = pd.read_csv('obs_data7_Case4.csv', sep=',')\n",
        "obs_data8_case4 = pd.read_csv('obs_data8_Case4.csv', sep=',')\n",
        "obs_data9_case4 = pd.read_csv('obs_data9_Case4.csv', sep=',')\n",
        "obs_data10_case4 = pd.read_csv('obs_data10_Case4.csv', sep=',')"
      ],
      "execution_count": 29,
      "outputs": []
    },
    {
      "cell_type": "code",
      "metadata": {
        "id": "EJJO4Bz6ViBY"
      },
      "source": [
        "obs_data_list_case4 = []\n",
        "obs_data_list_case4.append(obs_data1_case4)\n",
        "obs_data_list_case4.append(obs_data2_case4)\n",
        "obs_data_list_case4.append(obs_data3_case4)\n",
        "obs_data_list_case4.append(obs_data4_case4)\n",
        "obs_data_list_case4.append(obs_data5_case4)\n",
        "obs_data_list_case4.append(obs_data6_case4)\n",
        "obs_data_list_case4.append(obs_data7_case4)\n",
        "obs_data_list_case4.append(obs_data8_case4)\n",
        "obs_data_list_case4.append(obs_data9_case4)\n",
        "obs_data_list_case4.append(obs_data10_case4)"
      ],
      "execution_count": 30,
      "outputs": []
    },
    {
      "cell_type": "code",
      "metadata": {
        "id": "jn2R-Uz-VtFG"
      },
      "source": [
        "intv_data1_case4 = pd.read_csv('intv_data1_Case4.csv', sep=',')\n",
        "intv_data2_case4 = pd.read_csv('intv_data2_Case4.csv', sep=',')\n",
        "intv_data3_case4 = pd.read_csv('intv_data3_Case4.csv', sep=',')\n",
        "intv_data4_case4 = pd.read_csv('intv_data4_Case4.csv', sep=',')\n",
        "intv_data5_case4 = pd.read_csv('intv_data5_Case4.csv', sep=',')\n",
        "intv_data6_case4 = pd.read_csv('intv_data6_Case4.csv', sep=',')\n",
        "intv_data7_case4 = pd.read_csv('intv_data7_Case4.csv', sep=',')\n",
        "intv_data8_case4 = pd.read_csv('intv_data8_Case4.csv', sep=',')\n",
        "intv_data9_case4 = pd.read_csv('intv_data9_Case4.csv', sep=',')\n",
        "intv_data10_case4 = pd.read_csv('intv_data10_Case4.csv', sep=',')"
      ],
      "execution_count": 31,
      "outputs": []
    },
    {
      "cell_type": "code",
      "metadata": {
        "id": "LDJn7N3CV69G"
      },
      "source": [
        "intv_data_list_case4 = []\n",
        "intv_data_list_case4.append(intv_data1_case4)\n",
        "intv_data_list_case4.append(intv_data2_case4)\n",
        "intv_data_list_case4.append(intv_data3_case4)\n",
        "intv_data_list_case4.append(intv_data4_case4)\n",
        "intv_data_list_case4.append(intv_data5_case4)\n",
        "intv_data_list_case4.append(intv_data6_case4)\n",
        "intv_data_list_case4.append(intv_data7_case4)\n",
        "intv_data_list_case4.append(intv_data8_case4)\n",
        "intv_data_list_case4.append(intv_data9_case4)\n",
        "intv_data_list_case4.append(intv_data10_case4)"
      ],
      "execution_count": 32,
      "outputs": []
    },
    {
      "cell_type": "markdown",
      "metadata": {
        "id": "5e6qVtStWJ6i"
      },
      "source": [
        "# absolute average error (AAE)"
      ]
    },
    {
      "cell_type": "code",
      "metadata": {
        "id": "S1p20IvdWPCn"
      },
      "source": [
        "#means_ipw_case4_sil6r = [0]*10\n",
        "#means_list_ipw_case4_sil6r = {}\n",
        "means_gformula_case4_sil6r = [0]*10\n",
        "means_list_gformula_case4_sil6r = {}\n",
        "means_aipw_case4_sil6r = [0]*10\n",
        "means_list_aipw_case4_sil6r = {}\n",
        "for num_data_points in [60,100,140,200]:\n",
        "  for i in range(0,10):\n",
        "  #True causal effect is:\n",
        "    True_case4 = abs(intv_data_list_case4[i]['cytok'].mean() - obs_data_list_case4[i]['cytok'].mean())\n",
        "    data = obs_data_list_case4[i].iloc[0:num_data_points,]\n",
        "    #ace_ipw_case4_sil6r = ate_obj_case4_sil6r.compute_effect(data, \"ipw\")\n",
        "    #means_ipw_case4_sil6r[i] = abs(True_case4 - ace_ipw_case4_sil6r)\n",
        "    ace_gformula_case4_sil6r = ate_obj_case4_sil6r.compute_effect(data, \"gformula\")\n",
        "    means_gformula_case4_sil6r[i] = abs(True_case4 - ace_gformula_case4_sil6r)\n",
        "    ace_aipw_case4_sil6r = ate_obj_case4_sil6r.compute_effect(data, \"aipw\")\n",
        "    means_aipw_case4_sil6r[i] = abs(True_case4 - ace_aipw_case4_sil6r)\n",
        "  means_list_gformula_case4_sil6r[num_data_points] = (means_gformula_case4_sil6r)\n",
        "  means_gformula_case4_sil6r = [0]*10\n",
        "  means_list_aipw_case4_sil6r[num_data_points] = (means_aipw_case4_sil6r)\n",
        "  means_aipw_case4_sil6r = [0]*10\n",
        "  #means_list_ipw_case4_sil6r[num_data_points] = means_ipw_case4_sil6r\n",
        "  #means_ipw_case4_sil6r = [0]*10"
      ],
      "execution_count": null,
      "outputs": []
    },
    {
      "cell_type": "code",
      "metadata": {
        "id": "UPA1e5BcUL_F"
      },
      "source": [
        "#means_ipw_case4_egfr = [0]*10\n",
        "#means_list_ipw_case4_egfr = {}\n",
        "means_gformula_case4_egfr = [0]*10\n",
        "means_list_gformula_case4_egfr = {}\n",
        "means_aipw_case4_egfr = [0]*10\n",
        "means_list_aipw_case4_egfr = {}\n",
        "for num_data_points in [60,100,140,200]:\n",
        "  for i in range(0,10):\n",
        "  #True causal effect is:\n",
        "    True_case4 = abs(intv_data_list_case4[i]['cytok'].mean() - obs_data_list_case4[i]['cytok'].mean())\n",
        "    data = obs_data_list_case4[i].iloc[0:num_data_points,]\n",
        "    #ace_ipw_case4_egfr = ate_obj_case4_egfr.compute_effect(data, \"ipw\")\n",
        "    #means_ipw_case4_egfr[i] = abs(True_case4 - ace_ipw_case4_egfr)\n",
        "    ace_gformula_case4_egfr = ate_obj_case4_egfr.compute_effect(data, \"gformula\")\n",
        "    means_gformula_case4_egfr[i] = abs(True_case4 - ace_gformula_case4_egfr)\n",
        "    ace_aipw_case4_egfr = ate_obj_case4_egfr.compute_effect(data, \"aipw\")\n",
        "    means_aipw_case4_egfr[i] = abs(True_case4 - ace_aipw_case4_egfr)\n",
        "  means_list_gformula_case4_egfr[num_data_points] = (means_gformula_case4_egfr)\n",
        "  means_gformula_case4_egfr = [0]*10\n",
        "  means_list_aipw_case4_egfr[num_data_points] = (means_aipw_case4_egfr)\n",
        "  means_aipw_case4_egfr = [0]*10\n",
        "  #means_list_ipw_case4_egfr[num_data_points] = means_ipw_case4_egfr\n",
        "  #means_ipw_case4_egfr = [0]*10"
      ],
      "execution_count": null,
      "outputs": []
    },
    {
      "cell_type": "code",
      "metadata": {
        "id": "bYGh6HK8Xa9j"
      },
      "source": [
        "#means_list_ipw_case4"
      ],
      "execution_count": 23,
      "outputs": []
    },
    {
      "cell_type": "code",
      "metadata": {
        "id": "6pDrjyeoaLo1"
      },
      "source": [
        "means_list_gformula_case4_egfr"
      ],
      "execution_count": null,
      "outputs": []
    },
    {
      "cell_type": "code",
      "metadata": {
        "id": "kXJDIBlGapyI"
      },
      "source": [
        "means_list_aipw_case4_egfr"
      ],
      "execution_count": null,
      "outputs": []
    },
    {
      "cell_type": "code",
      "metadata": {
        "id": "NHi7ZJ7WjFDa"
      },
      "source": [
        "df_gformula_case4_sil6r = pd.DataFrame(data = means_list_gformula_case4_sil6r )\n",
        "df_aipw_case4_sil6r = pd.DataFrame(data = means_list_aipw_case4_sil6r )"
      ],
      "execution_count": 38,
      "outputs": []
    },
    {
      "cell_type": "code",
      "metadata": {
        "id": "-pANb5fwjIki"
      },
      "source": [
        "df_gformula_case4_sil6r.to_csv('df_gformula_case4_sil6r.csv')\n",
        "df_aipw_case4_sil6r.to_csv('df_aipw_case4_sil6r.csv')"
      ],
      "execution_count": 39,
      "outputs": []
    },
    {
      "cell_type": "code",
      "metadata": {
        "id": "O84wbSxKVnRf"
      },
      "source": [
        "df_gformula_case4_egfr = pd.DataFrame(data = means_list_gformula_case4_egfr )\n",
        "df_aipw_case4_egfr = pd.DataFrame(data = means_list_aipw_case4_egfr )"
      ],
      "execution_count": 40,
      "outputs": []
    },
    {
      "cell_type": "code",
      "metadata": {
        "id": "TVvWmJylVpEG"
      },
      "source": [
        "df_gformula_case4_egfr.to_csv('df_gformula_case4_egfr.csv')\n",
        "df_aipw_case4_egfr.to_csv('df_aipw_case4_egfr.csv')"
      ],
      "execution_count": 41,
      "outputs": []
    },
    {
      "cell_type": "markdown",
      "metadata": {
        "id": "9GJNqXXs4pW2"
      },
      "source": [
        "# Case study 2: Napkin"
      ]
    },
    {
      "cell_type": "code",
      "metadata": {
        "colab": {
          "base_uri": "https://localhost:8080/",
          "height": 161
        },
        "id": "_6wZnefk4xFD",
        "outputId": "2f6917fe-2a44-4907-ae37-a5db5cde0bda"
      },
      "source": [
        "vertices_case2 = ['W', 'R','X','Y']\n",
        "di_edges_case2 = [('W','R'), ('R','X'),('X','Y')]\n",
        "bi_edges_case2 = [('W','X'), ('W','Y')]\n",
        "Case2 = ADMG(vertices_case2, di_edges_case2, bi_edges_case2)\n",
        "Case2.draw(direction='LR')"
      ],
      "execution_count": 42,
      "outputs": [
        {
          "output_type": "execute_result",
          "data": {
            "text/plain": [
              "<graphviz.dot.Digraph at 0x7f6f23c4ec50>"
            ],
            "image/svg+xml": "<?xml version=\"1.0\" encoding=\"UTF-8\" standalone=\"no\"?>\n<!DOCTYPE svg PUBLIC \"-//W3C//DTD SVG 1.1//EN\"\n \"http://www.w3.org/Graphics/SVG/1.1/DTD/svg11.dtd\">\n<!-- Generated by graphviz version 2.40.1 (20161225.0304)\n -->\n<!-- Title: %3 Pages: 1 -->\n<svg width=\"260pt\" height=\"105pt\"\n viewBox=\"0.00 0.00 260.00 105.00\" xmlns=\"http://www.w3.org/2000/svg\" xmlns:xlink=\"http://www.w3.org/1999/xlink\">\n<g id=\"graph0\" class=\"graph\" transform=\"scale(1 1) rotate(0) translate(4 101)\">\n<title>%3</title>\n<polygon fill=\"#ffffff\" stroke=\"transparent\" points=\"-4,4 -4,-101 256,-101 256,4 -4,4\"/>\n<!-- W -->\n<g id=\"node1\" class=\"node\">\n<title>W</title>\n<text text-anchor=\"middle\" x=\"18\" y=\"-29.3\" font-family=\"Times,serif\" font-size=\"14.00\" fill=\"#000000\">W</text>\n</g>\n<!-- R -->\n<g id=\"node2\" class=\"node\">\n<title>R</title>\n<text text-anchor=\"middle\" x=\"90\" y=\"-75.3\" font-family=\"Times,serif\" font-size=\"14.00\" fill=\"#000000\">R</text>\n</g>\n<!-- W&#45;&gt;R -->\n<g id=\"edge2\" class=\"edge\">\n<title>W&#45;&gt;R</title>\n<path fill=\"none\" stroke=\"#0000ff\" d=\"M36.1686,-44.6077C44.2921,-49.7978 54.0363,-56.0232 62.9882,-61.7425\"/>\n<polygon fill=\"#0000ff\" stroke=\"#0000ff\" points=\"61.2754,-64.8015 71.5867,-67.236 65.0441,-58.9026 61.2754,-64.8015\"/>\n</g>\n<!-- X -->\n<g id=\"node3\" class=\"node\">\n<title>X</title>\n<text text-anchor=\"middle\" x=\"162\" y=\"-37.3\" font-family=\"Times,serif\" font-size=\"14.00\" fill=\"#000000\">X</text>\n</g>\n<!-- W&#45;&gt;X -->\n<g id=\"edge5\" class=\"edge\">\n<title>W&#45;&gt;X</title>\n<path fill=\"none\" stroke=\"#ff0000\" d=\"M46.5287,-34.5849C71.8633,-35.9924 108.6754,-38.0375 133.8843,-39.438\"/>\n<polygon fill=\"#ff0000\" stroke=\"#ff0000\" points=\"46.4165,-31.0734 36.2377,-34.0132 46.0281,-38.0626 46.4165,-31.0734\"/>\n<polygon fill=\"#ff0000\" stroke=\"#ff0000\" points=\"133.7316,-42.9348 143.9104,-39.995 134.12,-35.9456 133.7316,-42.9348\"/>\n</g>\n<!-- Y -->\n<g id=\"node4\" class=\"node\">\n<title>Y</title>\n<text text-anchor=\"middle\" x=\"234\" y=\"-14.3\" font-family=\"Times,serif\" font-size=\"14.00\" fill=\"#000000\">Y</text>\n</g>\n<!-- W&#45;&gt;Y -->\n<g id=\"edge4\" class=\"edge\">\n<title>W&#45;&gt;Y</title>\n<path fill=\"none\" stroke=\"#ff0000\" d=\"M46.3238,-27.4881C71.7708,-22.8332 110.22,-16.5326 144,-14 159.9552,-12.8038 164.0109,-13.4086 180,-14 188.2303,-14.3044 197.1517,-14.8689 205.3273,-15.4799\"/>\n<polygon fill=\"#ff0000\" stroke=\"#ff0000\" points=\"45.453,-24.0902 36.2655,-29.3666 46.7381,-30.9712 45.453,-24.0902\"/>\n<polygon fill=\"#ff0000\" stroke=\"#ff0000\" points=\"205.2781,-18.987 215.5244,-16.2918 205.8338,-12.009 205.2781,-18.987\"/>\n</g>\n<!-- R&#45;&gt;X -->\n<g id=\"edge3\" class=\"edge\">\n<title>R&#45;&gt;X</title>\n<path fill=\"none\" stroke=\"#0000ff\" d=\"M108.1686,-69.411C116.2075,-65.1683 125.8334,-60.0879 134.7082,-55.404\"/>\n<polygon fill=\"#0000ff\" stroke=\"#0000ff\" points=\"136.3765,-58.4811 143.5867,-50.7181 133.1092,-52.2904 136.3765,-58.4811\"/>\n</g>\n<!-- X&#45;&gt;Y -->\n<g id=\"edge1\" class=\"edge\">\n<title>X&#45;&gt;Y</title>\n<path fill=\"none\" stroke=\"#0000ff\" d=\"M180.1686,-35.1961C187.9537,-32.7092 197.2271,-29.7469 205.8653,-26.9875\"/>\n<polygon fill=\"#0000ff\" stroke=\"#0000ff\" points=\"207.126,-30.2591 215.5867,-23.882 204.9959,-23.591 207.126,-30.2591\"/>\n</g>\n</g>\n</svg>\n"
          },
          "metadata": {
            "tags": []
          },
          "execution_count": 42
        }
      ]
    },
    {
      "cell_type": "code",
      "metadata": {
        "colab": {
          "base_uri": "https://localhost:8080/"
        },
        "id": "mgCVq79E550g",
        "outputId": "cbb029dc-b410-4ebd-9563-a48539e2d929"
      },
      "source": [
        "one_id = OneLineID(graph=Case2, treatments=['X'], outcomes=['Y'])\n",
        "one_id.id()"
      ],
      "execution_count": 43,
      "outputs": [
        {
          "output_type": "execute_result",
          "data": {
            "text/plain": [
              "True"
            ]
          },
          "metadata": {
            "tags": []
          },
          "execution_count": 43
        }
      ]
    },
    {
      "cell_type": "code",
      "metadata": {
        "colab": {
          "base_uri": "https://localhost:8080/"
        },
        "id": "04zhsKGS6A_b",
        "outputId": "7bd9cb36-4dc0-4f89-a00f-4e2961c9f16b"
      },
      "source": [
        "ate_obj_case2 = CausalEffect(graph=Case2, treatment='X', outcome='Y')  # setting up the CausalEffect object\n",
        "ate_obj_case2"
      ],
      "execution_count": 44,
      "outputs": [
        {
          "output_type": "stream",
          "text": [
            "\n",
            " Effect is identified. \n",
            " \n",
            " Available estimators:\n",
            " \n",
            "1. Nested IPW (n-ipw)\n",
            "2. Augmented NIPW (anipw) \n",
            "\n",
            "Suggested estimator is Augmented NIPW \n",
            "\n"
          ],
          "name": "stdout"
        },
        {
          "output_type": "execute_result",
          "data": {
            "text/plain": [
              "<ananke.estimation.counterfactual_mean.CausalEffect at 0x7f6f23c4e9e8>"
            ]
          },
          "metadata": {
            "tags": []
          },
          "execution_count": 44
        }
      ]
    },
    {
      "cell_type": "code",
      "metadata": {
        "id": "GHuxh23mPspb"
      },
      "source": [
        "obs_data1_case2 = pd.read_csv('obs_data1_Case2.csv', sep=',')\n",
        "obs_data2_case2 = pd.read_csv('obs_data2_Case2.csv', sep=',')\n",
        "obs_data3_case2 = pd.read_csv('obs_data3_Case2.csv', sep=',')\n",
        "obs_data4_case2 = pd.read_csv('obs_data4_Case2.csv', sep=',')\n",
        "obs_data5_case2 = pd.read_csv('obs_data5_Case2.csv', sep=',')\n",
        "obs_data6_case2 = pd.read_csv('obs_data6_Case2.csv', sep=',')\n",
        "obs_data7_case2 = pd.read_csv('obs_data7_Case2.csv', sep=',')\n",
        "obs_data8_case2 = pd.read_csv('obs_data8_Case2.csv', sep=',')\n",
        "obs_data9_case2 = pd.read_csv('obs_data9_Case2.csv', sep=',')\n",
        "obs_data10_case2 = pd.read_csv('obs_data10_Case2.csv', sep=',')"
      ],
      "execution_count": 45,
      "outputs": []
    },
    {
      "cell_type": "code",
      "metadata": {
        "id": "kRMTqPnlPwPV"
      },
      "source": [
        "obs_data_list_case2 = []\n",
        "obs_data_list_case2.append(obs_data1_case2)\n",
        "obs_data_list_case2.append(obs_data2_case2)\n",
        "obs_data_list_case2.append(obs_data3_case2)\n",
        "obs_data_list_case2.append(obs_data4_case2)\n",
        "obs_data_list_case2.append(obs_data5_case2)\n",
        "obs_data_list_case2.append(obs_data6_case2)\n",
        "obs_data_list_case2.append(obs_data7_case2)\n",
        "obs_data_list_case2.append(obs_data8_case2)\n",
        "obs_data_list_case2.append(obs_data9_case2)\n",
        "obs_data_list_case2.append(obs_data10_case2)"
      ],
      "execution_count": 46,
      "outputs": []
    },
    {
      "cell_type": "code",
      "metadata": {
        "id": "4oc_hO_6PzGu"
      },
      "source": [
        "intv_data1_case2 = pd.read_csv('intv_data1_Case2.csv', sep=',')\n",
        "intv_data2_case2 = pd.read_csv('intv_data2_Case2.csv', sep=',')\n",
        "intv_data3_case2 = pd.read_csv('intv_data3_Case2.csv', sep=',')\n",
        "intv_data4_case2 = pd.read_csv('intv_data4_Case2.csv', sep=',')\n",
        "intv_data5_case2 = pd.read_csv('intv_data5_Case2.csv', sep=',')\n",
        "intv_data6_case2 = pd.read_csv('intv_data6_Case2.csv', sep=',')\n",
        "intv_data7_case2 = pd.read_csv('intv_data7_Case2.csv', sep=',')\n",
        "intv_data8_case2 = pd.read_csv('intv_data8_Case2.csv', sep=',')\n",
        "intv_data9_case2 = pd.read_csv('intv_data9_Case2.csv', sep=',')\n",
        "intv_data10_case2 = pd.read_csv('intv_data10_Case2.csv', sep=',')"
      ],
      "execution_count": 47,
      "outputs": []
    },
    {
      "cell_type": "code",
      "metadata": {
        "id": "wVpMPTCEP2O7"
      },
      "source": [
        "intv_data_list_case2 = []\n",
        "intv_data_list_case2.append(intv_data1_case2)\n",
        "intv_data_list_case2.append(intv_data2_case2)\n",
        "intv_data_list_case2.append(intv_data3_case2)\n",
        "intv_data_list_case2.append(intv_data4_case2)\n",
        "intv_data_list_case2.append(intv_data5_case2)\n",
        "intv_data_list_case2.append(intv_data6_case2)\n",
        "intv_data_list_case2.append(intv_data7_case2)\n",
        "intv_data_list_case2.append(intv_data8_case2)\n",
        "intv_data_list_case2.append(intv_data9_case2)\n",
        "intv_data_list_case2.append(intv_data10_case2)"
      ],
      "execution_count": 48,
      "outputs": []
    },
    {
      "cell_type": "markdown",
      "metadata": {
        "id": "lclaY3ulP5tY"
      },
      "source": [
        "# absolute average error (AAE)"
      ]
    },
    {
      "cell_type": "code",
      "metadata": {
        "id": "O5rgqEkcP6dI"
      },
      "source": [
        "#means_n_ipw_case2 = [0]*10\n",
        "#means_list_n_ipw_case2 = {}\n",
        "means_anipw_case2 = [0]*10\n",
        "means_list_anipw_case2 = {}\n",
        "\n",
        "for num_data_points in [15,20,30,60,100,140,200]:\n",
        "  for i in range(0,10):\n",
        "  #True causal effect is:\n",
        "    True_case2 = abs(intv_data_list_case2[i]['Y'].mean() - obs_data_list_case2[i]['Y'].mean())\n",
        "    data = obs_data_list_case2[i].iloc[0:num_data_points,]\n",
        "    #ace_n_ipw_case2 = ate_obj_case2.compute_effect(data, \"n-ipw\")\n",
        "    #means_n_ipw_case2[i] = abs(True_case2 - ace_n_ipw_case2)\n",
        "    ace_anipw_case2 = ate_obj_case2.compute_effect(data, \"anipw\")\n",
        "    means_anipw_case2[i] = abs(True_case2 - ace_anipw_case2)\n",
        "  means_list_anipw_case2[num_data_points] = (means_anipw_case2)\n",
        "  means_anipw_case2 = [0]*10\n",
        "  #means_list_n_ipw_case2[num_data_points] = means_n_ipw_case2\n",
        "  #means_n_ipw_case2 = [0]*10"
      ],
      "execution_count": null,
      "outputs": []
    },
    {
      "cell_type": "markdown",
      "metadata": {
        "id": "m4FhpfSFi54F"
      },
      "source": [
        "It produces error for both of the suggested estimators."
      ]
    }
  ]
}